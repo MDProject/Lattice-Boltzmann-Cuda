{
 "cells": [
  {
   "cell_type": "code",
   "execution_count": null,
   "id": "a2a1f704",
   "metadata": {},
   "outputs": [
    {
     "ename": "NameError",
     "evalue": "name 'np' is not defined",
     "output_type": "error",
     "traceback": [
      "\u001b[0;31m---------------------------------------------------------------------------\u001b[0m",
      "\u001b[0;31mNameError\u001b[0m                                 Traceback (most recent call last)",
      "Cell \u001b[0;32mIn[1], line 23\u001b[0m\n\u001b[1;32m     21\u001b[0m \u001b[38;5;66;03m# load in noise multifab of each frame into ndarray\u001b[39;00m\n\u001b[1;32m     22\u001b[0m Nframes \u001b[38;5;241m=\u001b[39m (step2 \u001b[38;5;241m-\u001b[39m step1)\u001b[38;5;241m/\u001b[39m\u001b[38;5;241m/\u001b[39mplot_int \u001b[38;5;241m+\u001b[39m \u001b[38;5;241m1\u001b[39m\n\u001b[0;32m---> 23\u001b[0m vel_ux_array \u001b[38;5;241m=\u001b[39m np\u001b[38;5;241m.\u001b[39mzeros((Nframes, \u001b[38;5;241m1\u001b[39m))\n\u001b[1;32m     24\u001b[0m vel_uy_array \u001b[38;5;241m=\u001b[39m np\u001b[38;5;241m.\u001b[39mzeros((Nframes, \u001b[38;5;241m1\u001b[39m))\n\u001b[1;32m     25\u001b[0m vel_uz_array \u001b[38;5;241m=\u001b[39m np\u001b[38;5;241m.\u001b[39mzeros((Nframes, \u001b[38;5;241m1\u001b[39m))\n",
      "\u001b[0;31mNameError\u001b[0m: name 'np' is not defined"
     ]
    }
   ],
   "source": [
    "import yt\n",
    "from matplotlib import rc_context\n",
    "import matplotlib.pyplot as plt\n",
    "from matplotlib.animation import FuncAnimation\n",
    "import numpy as np\n",
    "print(yt.__version__)\n",
    "\n",
    "step1 = 20000\n",
    "step2 = 500000\n",
    "plot_int = 2000 #10\n",
    "temperature = 1e-5\n",
    "alpha0 = 0.\n",
    "cs2 = 1./3.\n",
    "nx = 16\n",
    "ny = 16\n",
    "nz = 16\n",
    "ncomp = 19  # nvel in LBM\n",
    "###############################################################\n",
    "\n",
    "plot_file_hydrovs_root = \"\"\n",
    "if temperature > 0:\n",
    "    plot_file_hydrovs_root += \"./data_mixture_momentsModify/lbm_data_shshan_alpha0_\" + \"{:.2f}\".format(alpha0) +\\\n",
    "          \"_xi_\" + \"{:.1e}\".format(temperature) + \"_size{:d}-{:d}-{:d}_continue/plt\".format(nx,ny,nz)\n",
    "else:\n",
    "    plot_file_hydrovs_root += \"./data_mixture/lbm_data_shshan_alpha0_\" + \"{:.2f}\".format(alpha0) +\\\n",
    "          \"_xi_\" + \"{:.1e}\".format(temperature) + \"_size{:d}-{:d}-{:d}/plt\".format(nx,ny,nz)\n",
    "\n",
    "# load in noise multifab of each frame into ndarray\n",
    "Nframes = (step2 - step1)//plot_int + 1\n",
    "vel_ux_array = np.zeros((Nframes, 1))\n",
    "vel_uy_array = np.zeros((Nframes, 1))\n",
    "vel_uz_array = np.zeros((Nframes, 1))\n",
    "for n in range(step1, step2+1, plot_int):\n",
    "    plot_file_fnoise = plot_file_hydrovs_root + f\"{n:07d}\"\n",
    "    ds0 = yt.load(plot_file_fnoise)\n",
    "    hydrovs_data_frame = ds0.covering_grid(\n",
    "    level=0, left_edge=ds0.domain_left_edge, dims=ds0.domain_dimensions)\n",
    "    vel_ux_array[(n-step1)//plot_int] = np.mean(hydrovs_data_frame[\"boxlib\", \"ufx\"])\n",
    "    vel_uy_array[(n-step1)//plot_int] = np.mean(hydrovs_data_frame[\"boxlib\", \"ufy\"])\n",
    "    vel_uz_array[(n-step1)//plot_int] = np.mean(hydrovs_data_frame[\"boxlib\", \"ufz\"])\n",
    "\n",
    "\n",
    "step = np.arange(vel_ux_array.shape[0])\n",
    "plt.plot(step, vel_ux_array, label=\"ux\", color='r')\n",
    "plt.plot(step, vel_uy_array, label=\"uy\", color='b')\n",
    "plt.plot(step, vel_uz_array, label=\"uz\", color='k')\n",
    "plt.legend(title=\"Figure velocity ~ steps\")\n",
    "plt.xlabel('Index')  # Label for x-axis\n",
    "plt.ylabel('Y-values')  # Label for y-axis\n",
    "plt.title('Plot of the Data')  # Title\n",
    "plt.show()"
   ]
  },
  {
   "cell_type": "code",
   "execution_count": null,
   "id": "21609230",
   "metadata": {},
   "outputs": [],
   "source": [
    "\n",
    "plot_file_hydrovs_root = \"\"\n",
    "if temperature > 0:\n",
    "    plot_file_hydrovs_root += \"./data_mixture_momentsModify/lbm_data_shshan_alpha0_\" + \"{:.2f}\".format(alpha0) +\\\n",
    "          \"_xi_\" + \"{:.1e}\".format(temperature) + \"_size{:d}-{:d}-{:d}_continue/plt\".format(nx,ny,nz)\n",
    "else:\n",
    "    plot_file_hydrovs_root += \"./data_mixture/lbm_data_shshan_alpha0_\" + \"{:.2f}\".format(alpha0) +\\\n",
    "          \"_xi_\" + \"{:.1e}\".format(temperature) + \"_size{:d}-{:d}-{:d}/plt\".format(nx,ny,nz)\n",
    "\n",
    "# load in noise multifab of each frame into ndarray\n",
    "Nframes = (step2 - step1)//plot_int + 1\n",
    "vel_ux_array = np.zeros((Nframes, 1))\n",
    "vel_uy_array = np.zeros((Nframes, 1))\n",
    "vel_uz_array = np.zeros((Nframes, 1))\n",
    "for n in range(step1, step2+1, plot_int):\n",
    "    plot_file_fnoise = plot_file_hydrovs_root + f\"{n:07d}\"\n",
    "    ds0 = yt.load(plot_file_fnoise)\n",
    "    hydrovs_data_frame = ds0.covering_grid(\n",
    "    level=0, left_edge=ds0.domain_left_edge, dims=ds0.domain_dimensions)\n",
    "    vel_ux_array[(n-step1)//plot_int] = np.mean(hydrovs_data_frame[\"boxlib\", \"ufx\"])\n",
    "    vel_uy_array[(n-step1)//plot_int] = np.mean(hydrovs_data_frame[\"boxlib\", \"ufy\"])\n",
    "    vel_uz_array[(n-step1)//plot_int] = np.mean(hydrovs_data_frame[\"boxlib\", \"ufz\"])\n",
    "\n",
    "\n",
    "step = np.arange(vel_ux_array.shape[0])\n",
    "plt.plot(step, vel_ux_array, label=\"ux\", color='r')\n",
    "plt.plot(step, vel_uy_array, label=\"uy\", color='b')\n",
    "plt.plot(step, vel_uz_array, label=\"uz\", color='k')\n",
    "plt.legend(title=\"Figure velocity ~ steps\")\n",
    "plt.xlabel('Index')  # Label for x-axis\n",
    "plt.ylabel('Y-values')  # Label for y-axis\n",
    "plt.title('Plot of the Data')  # Title\n",
    "plt.show()"
   ]
  }
 ],
 "metadata": {
  "kernelspec": {
   "display_name": "base",
   "language": "python",
   "name": "python3"
  },
  "language_info": {
   "codemirror_mode": {
    "name": "ipython",
    "version": 3
   },
   "file_extension": ".py",
   "mimetype": "text/x-python",
   "name": "python",
   "nbconvert_exporter": "python",
   "pygments_lexer": "ipython3",
   "version": "3.12.2"
  }
 },
 "nbformat": 4,
 "nbformat_minor": 5
}
